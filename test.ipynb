{
 "cells": [
  {
   "cell_type": "code",
   "execution_count": 7,
   "metadata": {},
   "outputs": [
    {
     "name": "stdout",
     "output_type": "stream",
     "text": [
      "KC\n",
      "male\n",
      "test1\n",
      "test2\n",
      "14\n",
      "14\n",
      "14\n"
     ]
    }
   ],
   "source": [
    "def print_func(name, sex, *args, **kwargs):\n",
    "    print(name)\n",
    "    print(sex)\n",
    "\n",
    "    print(args[0])\n",
    "    print(args[1])\n",
    "\n",
    "    age = kwargs.get(\"age\") or \"\"\n",
    "    print(kwargs.get(\"age\"))\n",
    "    print(kwargs[\"age\"])  # error 생길 수도 있다.\n",
    "    print(age)\n",
    "\n",
    "\n",
    "print_func(\"KC\", \"male\", \"test1\", \"test2\", age=14)"
   ]
  },
  {
   "cell_type": "code",
   "execution_count": 1,
   "metadata": {},
   "outputs": [
    {
     "name": "stdout",
     "output_type": "stream",
     "text": [
      "my name is KC\n"
     ]
    }
   ],
   "source": [
    "from jinja2 import Template\n",
    "\n",
    "template = Template(\"my name is {{name}}\")\n",
    "new_template = template.render(name=\"KC\")\n",
    "print(new_template)"
   ]
  },
  {
   "cell_type": "code",
   "execution_count": 8,
   "metadata": {},
   "outputs": [
    {
     "name": "stdout",
     "output_type": "stream",
     "text": [
      "2023-03-30 00:00:00\n",
      "month\n",
      "2023-01-30 00:00:00\n",
      "2023-01-30 00:00:00\n",
      "2023-02-28 00:00:00\n",
      "days\n",
      "2023-03-01 00:00:00\n",
      "2023-03-01 00:00:00\n",
      "2023-03-29 00:00:00\n",
      "muliple\n",
      "2023-02-27 00:00:00\n"
     ]
    }
   ],
   "source": [
    "from datetime import datetime\n",
    "from dateutil import relativedelta\n",
    "\n",
    "now = datetime(year=2023, month=3, day=30)\n",
    "print(now)\n",
    "print(\"month\")\n",
    "print(now + relativedelta.relativedelta(month=1))\n",
    "print(now.replace(month=1))\n",
    "print(now + relativedelta.relativedelta(months=-1))\n",
    "print(\"days\")\n",
    "print(now + relativedelta.relativedelta(day=1))\n",
    "print(now.replace(day=1))\n",
    "print(now + relativedelta.relativedelta(days=-1))\n",
    "print(\"muliple\")\n",
    "print(\n",
    "    now + relativedelta.relativedelta(months=-1) + relativedelta.relativedelta(days=-1)\n",
    ")"
   ]
  }
 ],
 "metadata": {
  "kernelspec": {
   "display_name": "ts",
   "language": "python",
   "name": "python3"
  },
  "language_info": {
   "codemirror_mode": {
    "name": "ipython",
    "version": 3
   },
   "file_extension": ".py",
   "mimetype": "text/x-python",
   "name": "python",
   "nbconvert_exporter": "python",
   "pygments_lexer": "ipython3",
   "version": "3.11.5"
  }
 },
 "nbformat": 4,
 "nbformat_minor": 2
}
